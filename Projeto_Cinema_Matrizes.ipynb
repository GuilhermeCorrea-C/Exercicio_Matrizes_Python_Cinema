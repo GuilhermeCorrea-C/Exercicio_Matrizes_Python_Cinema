{
  "nbformat": 4,
  "nbformat_minor": 0,
  "metadata": {
    "colab": {
      "provenance": [],
      "include_colab_link": true
    },
    "kernelspec": {
      "name": "python3",
      "display_name": "Python 3"
    },
    "language_info": {
      "name": "python"
    }
  },
  "cells": [
    {
      "cell_type": "markdown",
      "metadata": {
        "id": "view-in-github",
        "colab_type": "text"
      },
      "source": [
        "<a href=\"https://colab.research.google.com/github/GuilhermeCorrea-C/Exercicio_Matrizes_Python_Cinema/blob/main/Projeto_Cinema_Matrizes.ipynb\" target=\"_parent\"><img src=\"https://colab.research.google.com/assets/colab-badge.svg\" alt=\"Open In Colab\"/></a>"
      ]
    },
    {
      "cell_type": "code",
      "execution_count": null,
      "metadata": {
        "id": "iFtIGxUVoKT7",
        "outputId": "e58372e9-ad56-4de4-aff7-9a5c0b85c9a7",
        "colab": {
          "base_uri": "https://localhost:8080/"
        }
      },
      "outputs": [
        {
          "output_type": "stream",
          "name": "stdout",
          "text": [
            "ESTUDANTE? S - SIM, N - NAO S\n",
            "INFORME A FILEIRA: 2\n",
            "INFORME O ASSENTO: 3\n",
            "DESEJA CONTINUAR? S/N N\n",
            "O VALOR TOTAL É DE R$50\n",
            "1 pessoas SÃO estudantes\n",
            "0 pessoas NÃO SÃO estudantes\n",
            "A QUANTIDADE DE ASSENTOS OCUPADOS É ÍMPAR!\n"
          ]
        }
      ],
      "source": [
        "def preencheAssento(m):\n",
        "  c = 'S'\n",
        "  while c == 'S':\n",
        "    estudante = input('ESTUDANTE? S - SIM, N - NAO ')\n",
        "    f = int(input('INFORME A FILEIRA: ')) -1\n",
        "    a = int(input('INFORME O ASSENTO: ')) -1\n",
        "    if m[f][a] == 'O':\n",
        "      for i in range(len(m)):\n",
        "        for j in range(len(m[i])):\n",
        "          if estudante == 'S':\n",
        "            m[f][a] = 'S'\n",
        "          else:\n",
        "            m[f][a] = 'N'\n",
        "    else:\n",
        "      print('ASSENTO OCUPADO! FAVOR SELECIONE UM ASSENTO LIVRE: ')\n",
        "    c = input('DESEJA CONTINUAR? S/N ')\n",
        "  return m\n",
        "\n",
        "def valorTotal(m):\n",
        "  tot = 0\n",
        "  for i in range(len(m)):\n",
        "    for j in range(len(m[i])):\n",
        "      if m[i][j] == 'S':\n",
        "        tot += 50\n",
        "      elif m[i][j] == 'N':\n",
        "        tot += 100\n",
        "  return tot\n",
        "\n",
        "def estudantesOuNao(mat):\n",
        "  estu = 0\n",
        "  naoEstu = 0\n",
        "  for i in range(len(mat)):\n",
        "    for j in range(len(mat[i])):\n",
        "      if mat[i][j] == 'S':\n",
        "        estu += 1\n",
        "      elif mat[i][j] == 'N':\n",
        "        naoEstu += 1\n",
        "  print(f'{estu} pessoas SÃO estudantes')\n",
        "  print(f'{naoEstu} pessoas NÃO SÃO estudantes')\n",
        "\n",
        "def imparOuPar(mat):\n",
        "  pessoas = 0\n",
        "  for i in range(len(mat)):\n",
        "    for j in range(len(mat[i])):\n",
        "      if mat[i][j] != 'O':\n",
        "        pessoas += 1\n",
        "  if pessoas % 2 == 0:\n",
        "    print('A QUANTIDADE DE ASSENTOS OCUPADOS É PAR!')\n",
        "  else:\n",
        "    print('A QUANTIDADE DE ASSENTOS OCUPADOS É ÍMPAR!')\n",
        "\n",
        "def main():\n",
        "  matriz = [['O']*100 for i in range(20)]\n",
        "  preencheAssento(matriz)\n",
        "  total = valorTotal(matriz)\n",
        "  print(f'O VALOR TOTAL É DE R${total}')\n",
        "  estudantesOuNao(matriz)\n",
        "  imparOuPar(matriz)\n",
        "\n",
        "main()"
      ]
    },
    {
      "cell_type": "code",
      "source": [],
      "metadata": {
        "id": "CZj0o9YI0np5"
      },
      "execution_count": null,
      "outputs": []
    }
  ]
}